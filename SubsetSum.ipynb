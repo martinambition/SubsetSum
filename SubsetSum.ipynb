{
 "cells": [
  {
   "cell_type": "code",
   "execution_count": 1,
   "metadata": {},
   "outputs": [],
   "source": [
    "%matplotlib inline"
   ]
  },
  {
   "cell_type": "code",
   "execution_count": 77,
   "metadata": {},
   "outputs": [],
   "source": [
    "import numpy as np\n",
    "import time"
   ]
  },
  {
   "cell_type": "code",
   "execution_count": 97,
   "metadata": {},
   "outputs": [],
   "source": [
    "result =[]\n",
    "def printSubset(subsets, set, sum, i, j,trace):\n",
    "    existChild =False;\n",
    "    newtrace = None\n",
    "    if i <= 0 or j <= 0:\n",
    "#         for k in trace:\n",
    "#             print(k)\n",
    "#         print(',')\n",
    "        result.append(trace.copy())\n",
    "        trace.clear()\n",
    "        return;\n",
    "    if subsets[i][j] == 1:\n",
    "        if subsets[i - 1][ j] == 1:\n",
    "            newtrace = trace.copy()\n",
    "            printSubset(subsets, set, sum, i - 1, j,trace);\n",
    "            existChild = True;\n",
    "        if  j - set[i-1]>= 0 and subsets[i - 1][ j - set[i-1]] == 1:\n",
    "            if newtrace:\n",
    "                trace= newtrace;\n",
    "            trace.append(set[i-1])\n",
    "            printSubset(subsets, set, sum, i - 1, j - set[i-1],trace)"
   ]
  },
  {
   "cell_type": "code",
   "execution_count": 101,
   "metadata": {},
   "outputs": [
    {
     "name": "stdout",
     "output_type": "stream",
     "text": [
      "Found a subset with given sum\n",
      "57.669088000000045\n"
     ]
    }
   ],
   "source": [
    "\n",
    "def isSubsetSum(set, n, sum):\n",
    "    #     max =  np.max(set)\n",
    "    #     mset = set.copy()\n",
    "    #     mset= mset+max\n",
    "\n",
    "    subset = ([[False for i in range(sum + 1)] for i in range(n + 1)])\n",
    "    for i in range(n + 1):\n",
    "        subset[i][0] = True\n",
    "    for i in range(1, sum + 1):\n",
    "        subset[0][i] = False\n",
    "    for i in range(1, n + 1):\n",
    "        for j in range(1, sum + 1):\n",
    "            if j < set[i - 1]:\n",
    "                subset[i][j] = subset[i - 1][j]\n",
    "            if j >= set[i - 1]:\n",
    "                subset[i][j] = (subset[i - 1][j] or subset[i - 1][j - set[i - 1]])\n",
    "    return subset[n][sum],subset\n",
    "\n",
    "\n",
    "if __name__ == '__main__':\n",
    "    set = np.random.randint(1000000, size=35)\n",
    "    #set = np.unique(set)\n",
    "    set = set.tolist()\n",
    "    sum = 5200000\n",
    "    n = len(set)\n",
    "    start = time.clock()\n",
    "\n",
    "\n",
    "    found,setable = isSubsetSum(set, n, sum)\n",
    "    \n",
    "    if (found):\n",
    "        print(\"Found a subset with given sum\")\n",
    "        #printSubset(setable,set,sum,n,sum,[])\n",
    "        #print(len(result))\n",
    "    else:\n",
    "        print(\"No subset with given sum\")\n",
    "    print (time.clock() - start)"
   ]
  },
  {
   "cell_type": "markdown",
   "metadata": {},
   "source": [
    "#### 2**200"
   ]
  },
  {
   "cell_type": "code",
   "execution_count": null,
   "metadata": {},
   "outputs": [],
   "source": []
  }
 ],
 "metadata": {
  "kernelspec": {
   "display_name": "Python 3",
   "language": "python",
   "name": "python3"
  },
  "language_info": {
   "codemirror_mode": {
    "name": "ipython",
    "version": 3
   },
   "file_extension": ".py",
   "mimetype": "text/x-python",
   "name": "python",
   "nbconvert_exporter": "python",
   "pygments_lexer": "ipython3",
   "version": "3.6.6"
  }
 },
 "nbformat": 4,
 "nbformat_minor": 2
}
